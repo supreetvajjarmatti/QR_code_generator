{
 "cells": [
  {
   "cell_type": "code",
   "execution_count": 1,
   "id": "df34119f",
   "metadata": {},
   "outputs": [],
   "source": [
    "import qrcode as qr\n",
    "img = qr.make(\"https://github.com/supreetvajjarmatti\")\n",
    "img.save(\"GitHub.png\")"
   ]
  },
  {
   "cell_type": "code",
   "execution_count": null,
   "id": "74fbd153",
   "metadata": {},
   "outputs": [],
   "source": []
  }
 ],
 "metadata": {
  "kernelspec": {
   "display_name": "Python 3 (ipykernel)",
   "language": "python",
   "name": "python3"
  },
  "language_info": {
   "codemirror_mode": {
    "name": "ipython",
    "version": 3
   },
   "file_extension": ".py",
   "mimetype": "text/x-python",
   "name": "python",
   "nbconvert_exporter": "python",
   "pygments_lexer": "ipython3",
   "version": "3.9.13"
  }
 },
 "nbformat": 4,
 "nbformat_minor": 5
}
